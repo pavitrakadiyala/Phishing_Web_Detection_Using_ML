{
 "cells": [
  {
   "cell_type": "code",
   "execution_count": 2,
   "metadata": {},
   "outputs": [],
   "source": [
    "import pandas as pd\n",
    "import numpy as np\n",
    "import matplotlib.pyplot as plt\n",
    "%matplotlib inline\n",
    "import seaborn as sns\n",
    "from sklearn.svm import SVC\n",
    "from sklearn.model_selection import train_test_split,cross_val_score\n",
    "from sklearn.metrics import accuracy_score,confusion_matrix,classification_report\n",
    "from sklearn.linear_model import LogisticRegression\n",
    "from sklearn.naive_bayes import GaussianNB\n",
    "from sklearn.ensemble import GradientBoostingClassifier\n",
    "from sklearn.tree import DecisionTreeClassifier\n",
    "from sklearn.ensemble import RandomForestClassifier\n",
    "from sklearn.neighbors import KNeighborsClassifier\n",
    "from sklearn.linear_model import SGDClassifier\n",
    "from sklearn.ensemble import AdaBoostClassifier\n",
    "from sklearn.naive_bayes import MultinomialNB\n",
    "from sklearn.model_selection import StratifiedKFold, cross_validate, train_test_split, cross_val_score, KFold\n",
    "from sklearn.metrics import roc_curve, auc, classification_report, confusion_matrix, precision_score, recall_score,  accuracy_score, precision_recall_curve\n",
    "import warnings\n",
    "warnings.filterwarnings('always')"
   ]
  },
  {
   "cell_type": "code",
   "execution_count": 3,
   "metadata": {},
   "outputs": [],
   "source": [
    "df=pd.read_csv(r\"phishing.csv\")"
   ]
  },
  {
   "cell_type": "code",
   "execution_count": 4,
   "metadata": {},
   "outputs": [
    {
     "data": {
      "text/html": [
       "<div>\n",
       "<style scoped>\n",
       "    .dataframe tbody tr th:only-of-type {\n",
       "        vertical-align: middle;\n",
       "    }\n",
       "\n",
       "    .dataframe tbody tr th {\n",
       "        vertical-align: top;\n",
       "    }\n",
       "\n",
       "    .dataframe thead th {\n",
       "        text-align: right;\n",
       "    }\n",
       "</style>\n",
       "<table border=\"1\" class=\"dataframe\">\n",
       "  <thead>\n",
       "    <tr style=\"text-align: right;\">\n",
       "      <th></th>\n",
       "      <th>Index</th>\n",
       "      <th>UsingIP</th>\n",
       "      <th>LongURL</th>\n",
       "      <th>ShortURL</th>\n",
       "      <th>Symbol@</th>\n",
       "      <th>Redirecting//</th>\n",
       "      <th>PrefixSuffix-</th>\n",
       "      <th>SubDomains</th>\n",
       "      <th>HTTPS</th>\n",
       "      <th>DomainRegLen</th>\n",
       "      <th>...</th>\n",
       "      <th>UsingPopupWindow</th>\n",
       "      <th>IframeRedirection</th>\n",
       "      <th>AgeofDomain</th>\n",
       "      <th>DNSRecording</th>\n",
       "      <th>WebsiteTraffic</th>\n",
       "      <th>PageRank</th>\n",
       "      <th>GoogleIndex</th>\n",
       "      <th>LinksPointingToPage</th>\n",
       "      <th>StatsReport</th>\n",
       "      <th>class</th>\n",
       "    </tr>\n",
       "  </thead>\n",
       "  <tbody>\n",
       "    <tr>\n",
       "      <th>0</th>\n",
       "      <td>0</td>\n",
       "      <td>1</td>\n",
       "      <td>1</td>\n",
       "      <td>1</td>\n",
       "      <td>1</td>\n",
       "      <td>1</td>\n",
       "      <td>-1</td>\n",
       "      <td>0</td>\n",
       "      <td>1</td>\n",
       "      <td>-1</td>\n",
       "      <td>...</td>\n",
       "      <td>1</td>\n",
       "      <td>1</td>\n",
       "      <td>-1</td>\n",
       "      <td>-1</td>\n",
       "      <td>0</td>\n",
       "      <td>-1</td>\n",
       "      <td>1</td>\n",
       "      <td>1</td>\n",
       "      <td>1</td>\n",
       "      <td>-1</td>\n",
       "    </tr>\n",
       "    <tr>\n",
       "      <th>1</th>\n",
       "      <td>1</td>\n",
       "      <td>1</td>\n",
       "      <td>0</td>\n",
       "      <td>1</td>\n",
       "      <td>1</td>\n",
       "      <td>1</td>\n",
       "      <td>-1</td>\n",
       "      <td>-1</td>\n",
       "      <td>-1</td>\n",
       "      <td>-1</td>\n",
       "      <td>...</td>\n",
       "      <td>1</td>\n",
       "      <td>1</td>\n",
       "      <td>1</td>\n",
       "      <td>-1</td>\n",
       "      <td>1</td>\n",
       "      <td>-1</td>\n",
       "      <td>1</td>\n",
       "      <td>0</td>\n",
       "      <td>-1</td>\n",
       "      <td>-1</td>\n",
       "    </tr>\n",
       "    <tr>\n",
       "      <th>2</th>\n",
       "      <td>2</td>\n",
       "      <td>1</td>\n",
       "      <td>0</td>\n",
       "      <td>1</td>\n",
       "      <td>1</td>\n",
       "      <td>1</td>\n",
       "      <td>-1</td>\n",
       "      <td>-1</td>\n",
       "      <td>-1</td>\n",
       "      <td>1</td>\n",
       "      <td>...</td>\n",
       "      <td>1</td>\n",
       "      <td>1</td>\n",
       "      <td>-1</td>\n",
       "      <td>-1</td>\n",
       "      <td>1</td>\n",
       "      <td>-1</td>\n",
       "      <td>1</td>\n",
       "      <td>-1</td>\n",
       "      <td>1</td>\n",
       "      <td>-1</td>\n",
       "    </tr>\n",
       "    <tr>\n",
       "      <th>3</th>\n",
       "      <td>3</td>\n",
       "      <td>1</td>\n",
       "      <td>0</td>\n",
       "      <td>-1</td>\n",
       "      <td>1</td>\n",
       "      <td>1</td>\n",
       "      <td>-1</td>\n",
       "      <td>1</td>\n",
       "      <td>1</td>\n",
       "      <td>-1</td>\n",
       "      <td>...</td>\n",
       "      <td>-1</td>\n",
       "      <td>1</td>\n",
       "      <td>-1</td>\n",
       "      <td>-1</td>\n",
       "      <td>0</td>\n",
       "      <td>-1</td>\n",
       "      <td>1</td>\n",
       "      <td>1</td>\n",
       "      <td>1</td>\n",
       "      <td>1</td>\n",
       "    </tr>\n",
       "    <tr>\n",
       "      <th>4</th>\n",
       "      <td>4</td>\n",
       "      <td>-1</td>\n",
       "      <td>0</td>\n",
       "      <td>-1</td>\n",
       "      <td>1</td>\n",
       "      <td>-1</td>\n",
       "      <td>-1</td>\n",
       "      <td>1</td>\n",
       "      <td>1</td>\n",
       "      <td>-1</td>\n",
       "      <td>...</td>\n",
       "      <td>1</td>\n",
       "      <td>1</td>\n",
       "      <td>1</td>\n",
       "      <td>1</td>\n",
       "      <td>1</td>\n",
       "      <td>-1</td>\n",
       "      <td>1</td>\n",
       "      <td>-1</td>\n",
       "      <td>-1</td>\n",
       "      <td>1</td>\n",
       "    </tr>\n",
       "  </tbody>\n",
       "</table>\n",
       "<p>5 rows × 32 columns</p>\n",
       "</div>"
      ],
      "text/plain": [
       "   Index  UsingIP  LongURL  ShortURL  Symbol@  Redirecting//  PrefixSuffix-  \\\n",
       "0      0        1        1         1        1              1             -1   \n",
       "1      1        1        0         1        1              1             -1   \n",
       "2      2        1        0         1        1              1             -1   \n",
       "3      3        1        0        -1        1              1             -1   \n",
       "4      4       -1        0        -1        1             -1             -1   \n",
       "\n",
       "   SubDomains  HTTPS  DomainRegLen  ...  UsingPopupWindow  IframeRedirection  \\\n",
       "0           0      1            -1  ...                 1                  1   \n",
       "1          -1     -1            -1  ...                 1                  1   \n",
       "2          -1     -1             1  ...                 1                  1   \n",
       "3           1      1            -1  ...                -1                  1   \n",
       "4           1      1            -1  ...                 1                  1   \n",
       "\n",
       "   AgeofDomain  DNSRecording  WebsiteTraffic  PageRank  GoogleIndex  \\\n",
       "0           -1            -1               0        -1            1   \n",
       "1            1            -1               1        -1            1   \n",
       "2           -1            -1               1        -1            1   \n",
       "3           -1            -1               0        -1            1   \n",
       "4            1             1               1        -1            1   \n",
       "\n",
       "   LinksPointingToPage  StatsReport  class  \n",
       "0                    1            1     -1  \n",
       "1                    0           -1     -1  \n",
       "2                   -1            1     -1  \n",
       "3                    1            1      1  \n",
       "4                   -1           -1      1  \n",
       "\n",
       "[5 rows x 32 columns]"
      ]
     },
     "execution_count": 4,
     "metadata": {},
     "output_type": "execute_result"
    }
   ],
   "source": [
    "df.head()"
   ]
  },
  {
   "cell_type": "code",
   "execution_count": 5,
   "metadata": {},
   "outputs": [
    {
     "data": {
      "text/plain": [
       "Index(['Index', 'UsingIP', 'LongURL', 'ShortURL', 'Symbol@', 'Redirecting//',\n",
       "       'PrefixSuffix-', 'SubDomains', 'HTTPS', 'DomainRegLen', 'Favicon',\n",
       "       'NonStdPort', 'HTTPSDomainURL', 'RequestURL', 'AnchorURL',\n",
       "       'LinksInScriptTags', 'ServerFormHandler', 'InfoEmail', 'AbnormalURL',\n",
       "       'WebsiteForwarding', 'StatusBarCust', 'DisableRightClick',\n",
       "       'UsingPopupWindow', 'IframeRedirection', 'AgeofDomain', 'DNSRecording',\n",
       "       'WebsiteTraffic', 'PageRank', 'GoogleIndex', 'LinksPointingToPage',\n",
       "       'StatsReport', 'class'],\n",
       "      dtype='object')"
      ]
     },
     "execution_count": 5,
     "metadata": {},
     "output_type": "execute_result"
    }
   ],
   "source": [
    "df.columns"
   ]
  },
  {
   "cell_type": "code",
   "execution_count": 6,
   "metadata": {},
   "outputs": [
    {
     "data": {
      "text/plain": [
       "(11054, 32)"
      ]
     },
     "execution_count": 6,
     "metadata": {},
     "output_type": "execute_result"
    }
   ],
   "source": [
    "df.shape"
   ]
  },
  {
   "cell_type": "code",
   "execution_count": 7,
   "metadata": {},
   "outputs": [
    {
     "data": {
      "text/plain": [
       "Index                  0\n",
       "UsingIP                0\n",
       "LongURL                0\n",
       "ShortURL               0\n",
       "Symbol@                0\n",
       "Redirecting//          0\n",
       "PrefixSuffix-          0\n",
       "SubDomains             0\n",
       "HTTPS                  0\n",
       "DomainRegLen           0\n",
       "Favicon                0\n",
       "NonStdPort             0\n",
       "HTTPSDomainURL         0\n",
       "RequestURL             0\n",
       "AnchorURL              0\n",
       "LinksInScriptTags      0\n",
       "ServerFormHandler      0\n",
       "InfoEmail              0\n",
       "AbnormalURL            0\n",
       "WebsiteForwarding      0\n",
       "StatusBarCust          0\n",
       "DisableRightClick      0\n",
       "UsingPopupWindow       0\n",
       "IframeRedirection      0\n",
       "AgeofDomain            0\n",
       "DNSRecording           0\n",
       "WebsiteTraffic         0\n",
       "PageRank               0\n",
       "GoogleIndex            0\n",
       "LinksPointingToPage    0\n",
       "StatsReport            0\n",
       "class                  0\n",
       "dtype: int64"
      ]
     },
     "execution_count": 7,
     "metadata": {},
     "output_type": "execute_result"
    }
   ],
   "source": [
    "df.isnull().sum()"
   ]
  },
  {
   "cell_type": "code",
   "execution_count": 8,
   "metadata": {},
   "outputs": [
    {
     "data": {
      "text/html": [
       "<div>\n",
       "<style scoped>\n",
       "    .dataframe tbody tr th:only-of-type {\n",
       "        vertical-align: middle;\n",
       "    }\n",
       "\n",
       "    .dataframe tbody tr th {\n",
       "        vertical-align: top;\n",
       "    }\n",
       "\n",
       "    .dataframe thead th {\n",
       "        text-align: right;\n",
       "    }\n",
       "</style>\n",
       "<table border=\"1\" class=\"dataframe\">\n",
       "  <thead>\n",
       "    <tr style=\"text-align: right;\">\n",
       "      <th></th>\n",
       "      <th>Index</th>\n",
       "      <th>UsingIP</th>\n",
       "      <th>LongURL</th>\n",
       "      <th>ShortURL</th>\n",
       "      <th>Symbol@</th>\n",
       "      <th>Redirecting//</th>\n",
       "      <th>PrefixSuffix-</th>\n",
       "      <th>SubDomains</th>\n",
       "      <th>HTTPS</th>\n",
       "      <th>DomainRegLen</th>\n",
       "      <th>...</th>\n",
       "      <th>DisableRightClick</th>\n",
       "      <th>UsingPopupWindow</th>\n",
       "      <th>IframeRedirection</th>\n",
       "      <th>AgeofDomain</th>\n",
       "      <th>DNSRecording</th>\n",
       "      <th>WebsiteTraffic</th>\n",
       "      <th>PageRank</th>\n",
       "      <th>GoogleIndex</th>\n",
       "      <th>LinksPointingToPage</th>\n",
       "      <th>StatsReport</th>\n",
       "    </tr>\n",
       "  </thead>\n",
       "  <tbody>\n",
       "    <tr>\n",
       "      <th>0</th>\n",
       "      <td>0</td>\n",
       "      <td>1</td>\n",
       "      <td>1</td>\n",
       "      <td>1</td>\n",
       "      <td>1</td>\n",
       "      <td>1</td>\n",
       "      <td>-1</td>\n",
       "      <td>0</td>\n",
       "      <td>1</td>\n",
       "      <td>-1</td>\n",
       "      <td>...</td>\n",
       "      <td>1</td>\n",
       "      <td>1</td>\n",
       "      <td>1</td>\n",
       "      <td>-1</td>\n",
       "      <td>-1</td>\n",
       "      <td>0</td>\n",
       "      <td>-1</td>\n",
       "      <td>1</td>\n",
       "      <td>1</td>\n",
       "      <td>1</td>\n",
       "    </tr>\n",
       "    <tr>\n",
       "      <th>1</th>\n",
       "      <td>1</td>\n",
       "      <td>1</td>\n",
       "      <td>0</td>\n",
       "      <td>1</td>\n",
       "      <td>1</td>\n",
       "      <td>1</td>\n",
       "      <td>-1</td>\n",
       "      <td>-1</td>\n",
       "      <td>-1</td>\n",
       "      <td>-1</td>\n",
       "      <td>...</td>\n",
       "      <td>1</td>\n",
       "      <td>1</td>\n",
       "      <td>1</td>\n",
       "      <td>1</td>\n",
       "      <td>-1</td>\n",
       "      <td>1</td>\n",
       "      <td>-1</td>\n",
       "      <td>1</td>\n",
       "      <td>0</td>\n",
       "      <td>-1</td>\n",
       "    </tr>\n",
       "    <tr>\n",
       "      <th>2</th>\n",
       "      <td>2</td>\n",
       "      <td>1</td>\n",
       "      <td>0</td>\n",
       "      <td>1</td>\n",
       "      <td>1</td>\n",
       "      <td>1</td>\n",
       "      <td>-1</td>\n",
       "      <td>-1</td>\n",
       "      <td>-1</td>\n",
       "      <td>1</td>\n",
       "      <td>...</td>\n",
       "      <td>1</td>\n",
       "      <td>1</td>\n",
       "      <td>1</td>\n",
       "      <td>-1</td>\n",
       "      <td>-1</td>\n",
       "      <td>1</td>\n",
       "      <td>-1</td>\n",
       "      <td>1</td>\n",
       "      <td>-1</td>\n",
       "      <td>1</td>\n",
       "    </tr>\n",
       "    <tr>\n",
       "      <th>3</th>\n",
       "      <td>3</td>\n",
       "      <td>1</td>\n",
       "      <td>0</td>\n",
       "      <td>-1</td>\n",
       "      <td>1</td>\n",
       "      <td>1</td>\n",
       "      <td>-1</td>\n",
       "      <td>1</td>\n",
       "      <td>1</td>\n",
       "      <td>-1</td>\n",
       "      <td>...</td>\n",
       "      <td>1</td>\n",
       "      <td>-1</td>\n",
       "      <td>1</td>\n",
       "      <td>-1</td>\n",
       "      <td>-1</td>\n",
       "      <td>0</td>\n",
       "      <td>-1</td>\n",
       "      <td>1</td>\n",
       "      <td>1</td>\n",
       "      <td>1</td>\n",
       "    </tr>\n",
       "    <tr>\n",
       "      <th>4</th>\n",
       "      <td>4</td>\n",
       "      <td>-1</td>\n",
       "      <td>0</td>\n",
       "      <td>-1</td>\n",
       "      <td>1</td>\n",
       "      <td>-1</td>\n",
       "      <td>-1</td>\n",
       "      <td>1</td>\n",
       "      <td>1</td>\n",
       "      <td>-1</td>\n",
       "      <td>...</td>\n",
       "      <td>1</td>\n",
       "      <td>1</td>\n",
       "      <td>1</td>\n",
       "      <td>1</td>\n",
       "      <td>1</td>\n",
       "      <td>1</td>\n",
       "      <td>-1</td>\n",
       "      <td>1</td>\n",
       "      <td>-1</td>\n",
       "      <td>-1</td>\n",
       "    </tr>\n",
       "  </tbody>\n",
       "</table>\n",
       "<p>5 rows × 31 columns</p>\n",
       "</div>"
      ],
      "text/plain": [
       "   Index  UsingIP  LongURL  ShortURL  Symbol@  Redirecting//  PrefixSuffix-  \\\n",
       "0      0        1        1         1        1              1             -1   \n",
       "1      1        1        0         1        1              1             -1   \n",
       "2      2        1        0         1        1              1             -1   \n",
       "3      3        1        0        -1        1              1             -1   \n",
       "4      4       -1        0        -1        1             -1             -1   \n",
       "\n",
       "   SubDomains  HTTPS  DomainRegLen  ...  DisableRightClick  UsingPopupWindow  \\\n",
       "0           0      1            -1  ...                  1                 1   \n",
       "1          -1     -1            -1  ...                  1                 1   \n",
       "2          -1     -1             1  ...                  1                 1   \n",
       "3           1      1            -1  ...                  1                -1   \n",
       "4           1      1            -1  ...                  1                 1   \n",
       "\n",
       "   IframeRedirection  AgeofDomain  DNSRecording  WebsiteTraffic  PageRank  \\\n",
       "0                  1           -1            -1               0        -1   \n",
       "1                  1            1            -1               1        -1   \n",
       "2                  1           -1            -1               1        -1   \n",
       "3                  1           -1            -1               0        -1   \n",
       "4                  1            1             1               1        -1   \n",
       "\n",
       "   GoogleIndex  LinksPointingToPage  StatsReport  \n",
       "0            1                    1            1  \n",
       "1            1                    0           -1  \n",
       "2            1                   -1            1  \n",
       "3            1                    1            1  \n",
       "4            1                   -1           -1  \n",
       "\n",
       "[5 rows x 31 columns]"
      ]
     },
     "execution_count": 8,
     "metadata": {},
     "output_type": "execute_result"
    }
   ],
   "source": [
    "X= df.drop(columns='class')\n",
    "X.head()"
   ]
  },
  {
   "cell_type": "code",
   "execution_count": 9,
   "metadata": {},
   "outputs": [
    {
     "data": {
      "text/html": [
       "<div>\n",
       "<style scoped>\n",
       "    .dataframe tbody tr th:only-of-type {\n",
       "        vertical-align: middle;\n",
       "    }\n",
       "\n",
       "    .dataframe tbody tr th {\n",
       "        vertical-align: top;\n",
       "    }\n",
       "\n",
       "    .dataframe thead th {\n",
       "        text-align: right;\n",
       "    }\n",
       "</style>\n",
       "<table border=\"1\" class=\"dataframe\">\n",
       "  <thead>\n",
       "    <tr style=\"text-align: right;\">\n",
       "      <th></th>\n",
       "      <th>class</th>\n",
       "    </tr>\n",
       "  </thead>\n",
       "  <tbody>\n",
       "    <tr>\n",
       "      <th>0</th>\n",
       "      <td>-1</td>\n",
       "    </tr>\n",
       "    <tr>\n",
       "      <th>1</th>\n",
       "      <td>-1</td>\n",
       "    </tr>\n",
       "    <tr>\n",
       "      <th>2</th>\n",
       "      <td>-1</td>\n",
       "    </tr>\n",
       "    <tr>\n",
       "      <th>3</th>\n",
       "      <td>1</td>\n",
       "    </tr>\n",
       "    <tr>\n",
       "      <th>4</th>\n",
       "      <td>1</td>\n",
       "    </tr>\n",
       "  </tbody>\n",
       "</table>\n",
       "</div>"
      ],
      "text/plain": [
       "   class\n",
       "0     -1\n",
       "1     -1\n",
       "2     -1\n",
       "3      1\n",
       "4      1"
      ]
     },
     "execution_count": 9,
     "metadata": {},
     "output_type": "execute_result"
    }
   ],
   "source": [
    "Y=df['class']\n",
    "Y=pd.DataFrame(Y)\n",
    "Y.head()"
   ]
  },
  {
   "cell_type": "code",
   "execution_count": 10,
   "metadata": {},
   "outputs": [],
   "source": [
    "train_X,test_X,train_Y,test_Y=train_test_split(X,Y,test_size=0.3,random_state=2)"
   ]
  },
  {
   "cell_type": "code",
   "execution_count": 11,
   "metadata": {},
   "outputs": [
    {
     "name": "stdout",
     "output_type": "stream",
     "text": [
      "(7737, 31)\n",
      "(3317, 31)\n",
      "(7737, 1)\n",
      "(3317, 1)\n"
     ]
    }
   ],
   "source": [
    "print(train_X.shape)# Features for training  \n",
    "print(test_X.shape) # to find accuracy \n",
    "print(train_Y.shape) \n",
    "print(test_Y.shape)"
   ]
  },
  {
   "cell_type": "code",
   "execution_count": 12,
   "metadata": {},
   "outputs": [],
   "source": [
    "def plot_confusion_matrix(test_Y, predict_y):\n",
    " C = confusion_matrix(test_Y, predict_y)\n",
    " A =(((C.T)/(C.sum(axis=1))).T)\n",
    " B =(C/C.sum(axis=0))\n",
    " plt.figure(figsize=(20,4))\n",
    " labels = [1,2]\n",
    " cmap=sns.light_palette(\"blue\")\n",
    " plt.subplot(1, 3, 1)\n",
    " sns.heatmap(C, annot=True, cmap=cmap, fmt=\".3f\", xticklabels=labels, yticklabels=labels)\n",
    " plt.xlabel('Predicted Class')\n",
    " plt.ylabel('Original Class')\n",
    " plt.title(\"Confusion matrix\")\n",
    " plt.subplot(1, 3, 2)\n",
    " sns.heatmap(B, annot=True, cmap=cmap, fmt=\".3f\", xticklabels=labels, yticklabels=labels)\n",
    " plt.xlabel('Predicted Class')\n",
    " plt.ylabel('Original Class')\n",
    " plt.title(\"Precision matrix\")\n",
    " plt.subplot(1, 3, 3)\n",
    " sns.heatmap(A, annot=True, cmap=cmap, fmt=\".3f\", xticklabels=labels, yticklabels=labels)\n",
    " plt.xlabel('Predicted Class')\n",
    " plt.ylabel('Original Class')\n",
    " plt.title(\"Recall matrix\")\n",
    " plt.show()"
   ]
  },
  {
   "cell_type": "code",
   "execution_count": 12,
   "metadata": {},
   "outputs": [
    {
     "name": "stderr",
     "output_type": "stream",
     "text": [
      "C:\\Users\\pavit\\anaconda3\\lib\\site-packages\\sklearn\\utils\\validation.py:760: DataConversionWarning: A column-vector y was passed when a 1d array was expected. Please change the shape of y to (n_samples, ), for example using ravel().\n",
      "  y = column_or_1d(y, warn=True)\n",
      "C:\\Users\\pavit\\anaconda3\\lib\\site-packages\\sklearn\\linear_model\\_logistic.py:940: ConvergenceWarning: lbfgs failed to converge (status=1):\n",
      "STOP: TOTAL NO. of ITERATIONS REACHED LIMIT.\n",
      "\n",
      "Increase the number of iterations (max_iter) or scale the data as shown in:\n",
      "    https://scikit-learn.org/stable/modules/preprocessing.html\n",
      "Please also refer to the documentation for alternative solver options:\n",
      "    https://scikit-learn.org/stable/modules/linear_model.html#logistic-regression\n",
      "  extra_warning_msg=_LOGISTIC_SOLVER_CONVERGENCE_MSG)\n"
     ]
    }
   ],
   "source": [
    "#1.Logistic Regression\n",
    "logreg=LogisticRegression()\n",
    "model_1=logreg.fit(train_X,train_Y)"
   ]
  },
  {
   "cell_type": "code",
   "execution_count": 13,
   "metadata": {},
   "outputs": [
    {
     "data": {
      "text/plain": [
       "array([ 1, -1, -1, ...,  1,  1, -1], dtype=int64)"
      ]
     },
     "execution_count": 13,
     "metadata": {},
     "output_type": "execute_result"
    }
   ],
   "source": [
    "logreg_predict= model_1.predict(test_X)\n",
    "logreg_predict"
   ]
  },
  {
   "cell_type": "code",
   "execution_count": 14,
   "metadata": {},
   "outputs": [
    {
     "data": {
      "text/plain": [
       "0.9276454627675611"
      ]
     },
     "execution_count": 14,
     "metadata": {},
     "output_type": "execute_result"
    }
   ],
   "source": [
    "accuracy_score(logreg_predict,test_Y)"
   ]
  },
  {
   "cell_type": "code",
   "execution_count": 15,
   "metadata": {},
   "outputs": [
    {
     "name": "stdout",
     "output_type": "stream",
     "text": [
      "              precision    recall  f1-score   support\n",
      "\n",
      "          -1       0.90      0.94      0.92      1400\n",
      "           1       0.95      0.92      0.94      1917\n",
      "\n",
      "    accuracy                           0.93      3317\n",
      "   macro avg       0.92      0.93      0.93      3317\n",
      "weighted avg       0.93      0.93      0.93      3317\n",
      "\n"
     ]
    }
   ],
   "source": [
    "print(classification_report(logreg_predict,test_Y))"
   ]
  },
  {
   "cell_type": "code",
   "execution_count": 16,
   "metadata": {},
   "outputs": [
    {
     "data": {
      "image/png": "[encoded data removed]",
      "text/plain": [
       "<Figure size 1440x288 with 6 Axes>"
      ]
     },
     "metadata": {
      "needs_background": "light"
     },
     "output_type": "display_data"
    }
   ],
   "source": [
    "plot_confusion_matrix(test_Y, logreg_predict)"
   ]
  },
  {
   "cell_type": "code",
   "execution_count": 17,
   "metadata": {},
   "outputs": [
    {
     "name": "stderr",
     "output_type": "stream",
     "text": [
      "C:\\Users\\pavit\\anaconda3\\lib\\site-packages\\ipykernel_launcher.py:3: DataConversionWarning: A column-vector y was passed when a 1d array was expected. Please change the shape of y to (n_samples, ), for example using ravel().\n",
      "  This is separate from the ipykernel package so we can avoid doing imports until\n"
     ]
    }
   ],
   "source": [
    "#2. KNeighbors\n",
    "knn=KNeighborsClassifier(n_neighbors=3)\n",
    "model_2= knn.fit(train_X,train_Y)"
   ]
  },
  {
   "cell_type": "code",
   "execution_count": 18,
   "metadata": {},
   "outputs": [
    {
     "data": {
      "text/plain": [
       "array([ 1,  1,  1, ...,  1, -1, -1], dtype=int64)"
      ]
     },
     "execution_count": 18,
     "metadata": {},
     "output_type": "execute_result"
    }
   ],
   "source": [
    "knn_predict=model_2.predict(test_X)\n",
    "knn_predict"
   ]
  },
  {
   "cell_type": "code",
   "execution_count": 19,
   "metadata": {},
   "outputs": [
    {
     "data": {
      "text/plain": [
       "0.6343081097377148"
      ]
     },
     "execution_count": 19,
     "metadata": {},
     "output_type": "execute_result"
    }
   ],
   "source": [
    "accuracy_score(knn_predict,test_Y)"
   ]
  },
  {
   "cell_type": "code",
   "execution_count": 20,
   "metadata": {},
   "outputs": [
    {
     "name": "stdout",
     "output_type": "stream",
     "text": [
      "              precision    recall  f1-score   support\n",
      "\n",
      "          -1       0.58      0.59      0.59      1458\n",
      "           1       0.68      0.67      0.67      1859\n",
      "\n",
      "    accuracy                           0.63      3317\n",
      "   macro avg       0.63      0.63      0.63      3317\n",
      "weighted avg       0.63      0.63      0.63      3317\n",
      "\n"
     ]
    }
   ],
   "source": [
    "print(classification_report(test_Y,knn_predict))"
   ]
  },
  {
   "cell_type": "code",
   "execution_count": 21,
   "metadata": {},
   "outputs": [
    {
     "data": {
      "image/png": "[encoded data removed]",
      "text/plain": [
       "<Figure size 1440x288 with 6 Axes>"
      ]
     },
     "metadata": {
      "needs_background": "light"
     },
     "output_type": "display_data"
    }
   ],
   "source": [
    "plot_confusion_matrix(test_Y, knn_predict)"
   ]
  },
  {
   "cell_type": "code",
   "execution_count": 22,
   "metadata": {},
   "outputs": [],
   "source": [
    "#3.Decision tree\n",
    "dtree=DecisionTreeClassifier()\n",
    "model_3=dtree.fit(train_X,train_Y)"
   ]
  },
  {
   "cell_type": "code",
   "execution_count": 23,
   "metadata": {},
   "outputs": [
    {
     "data": {
      "text/plain": [
       "array([ 1, -1, -1, ...,  1,  1, -1], dtype=int64)"
      ]
     },
     "execution_count": 23,
     "metadata": {},
     "output_type": "execute_result"
    }
   ],
   "source": [
    "dtree_predict=model_3.predict(test_X)\n",
    "dtree_predict"
   ]
  },
  {
   "cell_type": "code",
   "execution_count": 24,
   "metadata": {},
   "outputs": [
    {
     "data": {
      "text/plain": [
       "0.9469400060295448"
      ]
     },
     "execution_count": 24,
     "metadata": {},
     "output_type": "execute_result"
    }
   ],
   "source": [
    "accuracy_score(dtree_predict,test_Y)"
   ]
  },
  {
   "cell_type": "code",
   "execution_count": 25,
   "metadata": {},
   "outputs": [
    {
     "name": "stdout",
     "output_type": "stream",
     "text": [
      "              precision    recall  f1-score   support\n",
      "\n",
      "          -1       0.93      0.95      0.94      1418\n",
      "           1       0.96      0.94      0.95      1899\n",
      "\n",
      "    accuracy                           0.95      3317\n",
      "   macro avg       0.94      0.95      0.95      3317\n",
      "weighted avg       0.95      0.95      0.95      3317\n",
      "\n"
     ]
    }
   ],
   "source": [
    "print(classification_report(dtree_predict,test_Y))"
   ]
  },
  {
   "cell_type": "code",
   "execution_count": 26,
   "metadata": {},
   "outputs": [
    {
     "data": {
      "image/png": "[encoded data removed]",
      "text/plain": [
       "<Figure size 1440x288 with 6 Axes>"
      ]
     },
     "metadata": {
      "needs_background": "light"
     },
     "output_type": "display_data"
    }
   ],
   "source": [
    "plot_confusion_matrix(test_Y, dtree_predict)"
   ]
  },
  {
   "cell_type": "code",
   "execution_count": 13,
   "metadata": {},
   "outputs": [
    {
     "name": "stderr",
     "output_type": "stream",
     "text": [
      "C:\\Users\\pavit\\anaconda3\\lib\\site-packages\\ipykernel_launcher.py:3: DataConversionWarning: A column-vector y was passed when a 1d array was expected. Please change the shape of y to (n_samples,), for example using ravel().\n",
      "  This is separate from the ipykernel package so we can avoid doing imports until\n"
     ]
    }
   ],
   "source": [
    "#4.RandomForest \n",
    "rfc=RandomForestClassifier()\n",
    "model_4=rfc.fit(train_X,train_Y)"
   ]
  },
  {
   "cell_type": "code",
   "execution_count": 14,
   "metadata": {},
   "outputs": [
    {
     "data": {
      "text/plain": [
       "array([ 1, -1, -1, ...,  1,  1, -1], dtype=int64)"
      ]
     },
     "execution_count": 14,
     "metadata": {},
     "output_type": "execute_result"
    }
   ],
   "source": [
    "rfc_predict=model_4.predict(test_X)\n",
    "rfc_predict"
   ]
  },
  {
   "cell_type": "code",
   "execution_count": 15,
   "metadata": {},
   "outputs": [
    {
     "data": {
      "text/plain": [
       "0.9704552306300874"
      ]
     },
     "execution_count": 15,
     "metadata": {},
     "output_type": "execute_result"
    }
   ],
   "source": [
    "accuracy_score(rfc_predict,test_Y)"
   ]
  },
  {
   "cell_type": "code",
   "execution_count": 16,
   "metadata": {},
   "outputs": [
    {
     "name": "stdout",
     "output_type": "stream",
     "text": [
      "              precision    recall  f1-score   support\n",
      "\n",
      "          -1       0.96      0.97      0.97      1432\n",
      "           1       0.98      0.97      0.97      1885\n",
      "\n",
      "    accuracy                           0.97      3317\n",
      "   macro avg       0.97      0.97      0.97      3317\n",
      "weighted avg       0.97      0.97      0.97      3317\n",
      "\n"
     ]
    }
   ],
   "source": [
    "print(classification_report(rfc_predict,test_Y))"
   ]
  },
  {
   "cell_type": "code",
   "execution_count": 17,
   "metadata": {},
   "outputs": [
    {
     "data": {
      "image/png": "[encoded data removed]",
      "text/plain": [
       "<Figure size 1440x288 with 6 Axes>"
      ]
     },
     "metadata": {
      "needs_background": "light"
     },
     "output_type": "display_data"
    }
   ],
   "source": [
    "plot_confusion_matrix(test_Y, rfc_predict)"
   ]
  },
  {
   "cell_type": "code",
   "execution_count": 32,
   "metadata": {},
   "outputs": [
    {
     "name": "stderr",
     "output_type": "stream",
     "text": [
      "C:\\Users\\pavit\\anaconda3\\lib\\site-packages\\sklearn\\utils\\validation.py:760: DataConversionWarning: A column-vector y was passed when a 1d array was expected. Please change the shape of y to (n_samples, ), for example using ravel().\n",
      "  y = column_or_1d(y, warn=True)\n"
     ]
    }
   ],
   "source": [
    "#5. Support Vector Machine\n",
    "svc=SVC()\n",
    "model_5=svc.fit(train_X,train_Y)"
   ]
  },
  {
   "cell_type": "code",
   "execution_count": 33,
   "metadata": {},
   "outputs": [
    {
     "data": {
      "text/plain": [
       "array([1, 1, 1, ..., 1, 1, 1], dtype=int64)"
      ]
     },
     "execution_count": 33,
     "metadata": {},
     "output_type": "execute_result"
    }
   ],
   "source": [
    "svm_predict=model_5.predict(test_X)\n",
    "svm_predict"
   ]
  },
  {
   "cell_type": "code",
   "execution_count": 34,
   "metadata": {},
   "outputs": [
    {
     "data": {
      "text/plain": [
       "0.5604461863129334"
      ]
     },
     "execution_count": 34,
     "metadata": {},
     "output_type": "execute_result"
    }
   ],
   "source": [
    "accuracy_score(svm_predict,test_Y)"
   ]
  },
  {
   "cell_type": "code",
   "execution_count": 35,
   "metadata": {},
   "outputs": [
    {
     "name": "stdout",
     "output_type": "stream",
     "text": [
      "              precision    recall  f1-score   support\n",
      "\n",
      "          -1       0.00      0.00      0.00         0\n",
      "           1       1.00      0.56      0.72      3317\n",
      "\n",
      "    accuracy                           0.56      3317\n",
      "   macro avg       0.50      0.28      0.36      3317\n",
      "weighted avg       1.00      0.56      0.72      3317\n",
      "\n"
     ]
    },
    {
     "name": "stderr",
     "output_type": "stream",
     "text": [
      "C:\\Users\\pavit\\anaconda3\\lib\\site-packages\\sklearn\\metrics\\_classification.py:1272: UndefinedMetricWarning: Recall and F-score are ill-defined and being set to 0.0 in labels with no true samples. Use `zero_division` parameter to control this behavior.\n",
      "  _warn_prf(average, modifier, msg_start, len(result))\n",
      "C:\\Users\\pavit\\anaconda3\\lib\\site-packages\\sklearn\\metrics\\_classification.py:1272: UndefinedMetricWarning: Recall and F-score are ill-defined and being set to 0.0 in labels with no true samples. Use `zero_division` parameter to control this behavior.\n",
      "  _warn_prf(average, modifier, msg_start, len(result))\n",
      "C:\\Users\\pavit\\anaconda3\\lib\\site-packages\\sklearn\\metrics\\_classification.py:1272: UndefinedMetricWarning: Recall and F-score are ill-defined and being set to 0.0 in labels with no true samples. Use `zero_division` parameter to control this behavior.\n",
      "  _warn_prf(average, modifier, msg_start, len(result))\n"
     ]
    }
   ],
   "source": [
    "print(classification_report(svm_predict,test_Y))"
   ]
  },
  {
   "cell_type": "code",
   "execution_count": 36,
   "metadata": {},
   "outputs": [
    {
     "name": "stderr",
     "output_type": "stream",
     "text": [
      "C:\\Users\\pavit\\anaconda3\\lib\\site-packages\\ipykernel_launcher.py:4: RuntimeWarning: invalid value encountered in true_divide\n",
      "  after removing the cwd from sys.path.\n"
     ]
    },
    {
     "data": {
      "image/png": "[encoded data removed]",
      "text/plain": [
       "<Figure size 1440x288 with 6 Axes>"
      ]
     },
     "metadata": {
      "needs_background": "light"
     },
     "output_type": "display_data"
    }
   ],
   "source": [
    "plot_confusion_matrix(test_Y, svm_predict)"
   ]
  },
  {
   "cell_type": "code",
   "execution_count": 37,
   "metadata": {},
   "outputs": [
    {
     "name": "stderr",
     "output_type": "stream",
     "text": [
      "C:\\Users\\pavit\\anaconda3\\lib\\site-packages\\sklearn\\ensemble\\_gb.py:1454: DataConversionWarning: A column-vector y was passed when a 1d array was expected. Please change the shape of y to (n_samples, ), for example using ravel().\n",
      "  y = column_or_1d(y, warn=True)\n"
     ]
    }
   ],
   "source": [
    "#6.Gradient boosting Classifier\n",
    "gbc=GradientBoostingClassifier()\n",
    "model_6=gbc.fit(train_X,train_Y)"
   ]
  },
  {
   "cell_type": "code",
   "execution_count": 38,
   "metadata": {},
   "outputs": [
    {
     "data": {
      "text/plain": [
       "array([ 1, -1, -1, ...,  1,  1, -1], dtype=int64)"
      ]
     },
     "execution_count": 38,
     "metadata": {},
     "output_type": "execute_result"
    }
   ],
   "source": [
    "gbc_predict=model_6.predict(test_X)\n",
    "gbc_predict"
   ]
  },
  {
   "cell_type": "code",
   "execution_count": 39,
   "metadata": {},
   "outputs": [
    {
     "data": {
      "text/plain": [
       "0.9475429605064818"
      ]
     },
     "execution_count": 39,
     "metadata": {},
     "output_type": "execute_result"
    }
   ],
   "source": [
    "accuracy_score(gbc_predict,test_Y)"
   ]
  },
  {
   "cell_type": "code",
   "execution_count": 40,
   "metadata": {},
   "outputs": [
    {
     "name": "stdout",
     "output_type": "stream",
     "text": [
      "              precision    recall  f1-score   support\n",
      "\n",
      "          -1       0.92      0.96      0.94      1410\n",
      "           1       0.97      0.94      0.95      1907\n",
      "\n",
      "    accuracy                           0.95      3317\n",
      "   macro avg       0.94      0.95      0.95      3317\n",
      "weighted avg       0.95      0.95      0.95      3317\n",
      "\n"
     ]
    }
   ],
   "source": [
    "print(classification_report(gbc_predict,test_Y))"
   ]
  },
  {
   "cell_type": "code",
   "execution_count": 41,
   "metadata": {},
   "outputs": [
    {
     "data": {
      "image/png": "[encoded data removed]",
      "text/plain": [
       "<Figure size 1440x288 with 6 Axes>"
      ]
     },
     "metadata": {
      "needs_background": "light"
     },
     "output_type": "display_data"
    }
   ],
   "source": [
    "plot_confusion_matrix(test_Y, gbc_predict)"
   ]
  },
  {
   "cell_type": "code",
   "execution_count": 42,
   "metadata": {},
   "outputs": [
    {
     "name": "stderr",
     "output_type": "stream",
     "text": [
      "C:\\Users\\pavit\\anaconda3\\lib\\site-packages\\sklearn\\utils\\validation.py:760: DataConversionWarning: A column-vector y was passed when a 1d array was expected. Please change the shape of y to (n_samples, ), for example using ravel().\n",
      "  y = column_or_1d(y, warn=True)\n"
     ]
    }
   ],
   "source": [
    "#7.Adaboost Classifier\n",
    "abc=AdaBoostClassifier()\n",
    "model_7=abc.fit(train_X,train_Y)"
   ]
  },
  {
   "cell_type": "code",
   "execution_count": 43,
   "metadata": {},
   "outputs": [
    {
     "data": {
      "text/plain": [
       "array([ 1, -1, -1, ...,  1,  1, -1], dtype=int64)"
      ]
     },
     "execution_count": 43,
     "metadata": {},
     "output_type": "execute_result"
    }
   ],
   "source": [
    "abc_predict=model_7.predict(test_X)\n",
    "abc_predict"
   ]
  },
  {
   "cell_type": "code",
   "execution_count": 44,
   "metadata": {},
   "outputs": [
    {
     "data": {
      "text/plain": [
       "0.930057280675309"
      ]
     },
     "execution_count": 44,
     "metadata": {},
     "output_type": "execute_result"
    }
   ],
   "source": [
    "accuracy_score(abc_predict,test_Y)"
   ]
  },
  {
   "cell_type": "code",
   "execution_count": 45,
   "metadata": {},
   "outputs": [
    {
     "name": "stdout",
     "output_type": "stream",
     "text": [
      "              precision    recall  f1-score   support\n",
      "\n",
      "          -1       0.90      0.94      0.92      1392\n",
      "           1       0.96      0.92      0.94      1925\n",
      "\n",
      "    accuracy                           0.93      3317\n",
      "   macro avg       0.93      0.93      0.93      3317\n",
      "weighted avg       0.93      0.93      0.93      3317\n",
      "\n"
     ]
    }
   ],
   "source": [
    "print(classification_report(abc_predict,test_Y))"
   ]
  },
  {
   "cell_type": "code",
   "execution_count": 46,
   "metadata": {},
   "outputs": [
    {
     "data": {
      "image/png": "[encoded data removed]",
      "text/plain": [
       "<Figure size 1440x288 with 6 Axes>"
      ]
     },
     "metadata": {
      "needs_background": "light"
     },
     "output_type": "display_data"
    }
   ],
   "source": [
    "plot_confusion_matrix(test_Y, abc_predict)"
   ]
  },
  {
   "cell_type": "code",
   "execution_count": 47,
   "metadata": {},
   "outputs": [],
   "source": [
    "#8. Naive Bayes\n",
    "nbc = GaussianNB()"
   ]
  },
  {
   "cell_type": "code",
   "execution_count": 48,
   "metadata": {},
   "outputs": [
    {
     "name": "stderr",
     "output_type": "stream",
     "text": [
      "C:\\Users\\pavit\\anaconda3\\lib\\site-packages\\sklearn\\naive_bayes.py:206: DataConversionWarning: A column-vector y was passed when a 1d array was expected. Please change the shape of y to (n_samples, ), for example using ravel().\n",
      "  y = column_or_1d(y, warn=True)\n"
     ]
    }
   ],
   "source": [
    "model_8=nbc.fit(train_X,train_Y)"
   ]
  },
  {
   "cell_type": "code",
   "execution_count": 49,
   "metadata": {},
   "outputs": [
    {
     "data": {
      "text/plain": [
       "array([ 1, -1, -1, ...,  1,  1, -1], dtype=int64)"
      ]
     },
     "execution_count": 49,
     "metadata": {},
     "output_type": "execute_result"
    }
   ],
   "source": [
    "nbc_predict=model_8.predict(test_X)\n",
    "nbc_predict"
   ]
  },
  {
   "cell_type": "code",
   "execution_count": 50,
   "metadata": {},
   "outputs": [
    {
     "data": {
      "text/plain": [
       "0.8878504672897196"
      ]
     },
     "execution_count": 50,
     "metadata": {},
     "output_type": "execute_result"
    }
   ],
   "source": [
    "accuracy_score(nbc_predict,test_Y)"
   ]
  },
  {
   "cell_type": "code",
   "execution_count": 51,
   "metadata": {},
   "outputs": [
    {
     "name": "stdout",
     "output_type": "stream",
     "text": [
      "              precision    recall  f1-score   support\n",
      "\n",
      "          -1       0.94      0.83      0.88      1660\n",
      "           1       0.85      0.95      0.89      1657\n",
      "\n",
      "    accuracy                           0.89      3317\n",
      "   macro avg       0.89      0.89      0.89      3317\n",
      "weighted avg       0.89      0.89      0.89      3317\n",
      "\n"
     ]
    }
   ],
   "source": [
    "print(classification_report(nbc_predict,test_Y))"
   ]
  },
  {
   "cell_type": "code",
   "execution_count": 52,
   "metadata": {},
   "outputs": [
    {
     "data": {
      "image/png": "[encoded data removed]",
      "text/plain": [
       "<Figure size 1440x288 with 6 Axes>"
      ]
     },
     "metadata": {
      "needs_background": "light"
     },
     "output_type": "display_data"
    }
   ],
   "source": [
    "plot_confusion_matrix(test_Y, nbc_predict)"
   ]
  },
  {
   "cell_type": "code",
   "execution_count": 53,
   "metadata": {},
   "outputs": [
    {
     "name": "stderr",
     "output_type": "stream",
     "text": [
      "C:\\Users\\pavit\\anaconda3\\lib\\site-packages\\sklearn\\utils\\validation.py:760: DataConversionWarning: A column-vector y was passed when a 1d array was expected. Please change the shape of y to (n_samples, ), for example using ravel().\n",
      "  y = column_or_1d(y, warn=True)\n"
     ]
    }
   ],
   "source": [
    "#9.Stocastic Gradient\n",
    "sgdc = SGDClassifier()\n",
    "model_9=sgdc.fit(train_X,train_Y)"
   ]
  },
  {
   "cell_type": "code",
   "execution_count": 54,
   "metadata": {},
   "outputs": [
    {
     "data": {
      "text/plain": [
       "array([-1, -1, -1, ..., -1, -1, -1], dtype=int64)"
      ]
     },
     "execution_count": 54,
     "metadata": {},
     "output_type": "execute_result"
    }
   ],
   "source": [
    "sgdc_predict=model_9.predict(test_X)\n",
    "sgdc_predict"
   ]
  },
  {
   "cell_type": "code",
   "execution_count": 55,
   "metadata": {},
   "outputs": [
    {
     "data": {
      "text/plain": [
       "0.445281881217968"
      ]
     },
     "execution_count": 55,
     "metadata": {},
     "output_type": "execute_result"
    }
   ],
   "source": [
    "accuracy_score(sgdc_predict,test_Y)"
   ]
  },
  {
   "cell_type": "code",
   "execution_count": 56,
   "metadata": {},
   "outputs": [
    {
     "name": "stdout",
     "output_type": "stream",
     "text": [
      "              precision    recall  f1-score   support\n",
      "\n",
      "          -1       1.00      0.44      0.61      3296\n",
      "           1       0.01      0.95      0.02        21\n",
      "\n",
      "    accuracy                           0.45      3317\n",
      "   macro avg       0.51      0.70      0.32      3317\n",
      "weighted avg       0.99      0.45      0.61      3317\n",
      "\n"
     ]
    }
   ],
   "source": [
    "print(classification_report(sgdc_predict,test_Y))"
   ]
  },
  {
   "cell_type": "code",
   "execution_count": 57,
   "metadata": {},
   "outputs": [
    {
     "data": {
      "image/png": "[encoded data removed]",
      "text/plain": [
       "<Figure size 1440x288 with 6 Axes>"
      ]
     },
     "metadata": {
      "needs_background": "light"
     },
     "output_type": "display_data"
    }
   ],
   "source": [
    "plot_confusion_matrix(test_Y, sgdc_predict)"
   ]
  },
  {
   "cell_type": "code",
   "execution_count": null,
   "metadata": {},
   "outputs": [],
   "source": [
    "print('Logistic Regression Accuracy:',accuracy_score(logreg_predict,test_Y))\n",
    "print('K-Nearest Neighbour Accuracy:',accuracy_score(knn_predict,test_Y))\n",
    "print('Decision Tree Classifier Accuracy:',accuracy_score(dtree_predict,test_Y))\n",
    "print('Random Forest Classifier Accuracy:',accuracy_score(rfc_predict,test_Y))\n",
    "print('support Vector Machine Accuracy:',accuracy_score(svm_predict,test_Y))\n",
    "print('Gradient Booster Classifier Accuracy:' , accuracy_score (gbc_predict, test_Y))\n",
    "print('Ada Boost Classifier Accuracy:' , accuracy_score (abc_predict, test_Y))\n",
    "print('Naive Bayes Classifier Accuracy:' , accuracy_score (nbc_predict, test_Y))\n",
    "print('Stochastic Gradient Descent Classifier Accuracy:', accuracy_score (sgdc_predict, test_Y))"
   ]
  },
  {
   "cell_type": "code",
   "execution_count": 22,
   "metadata": {},
   "outputs": [
    {
     "name": "stdout",
     "output_type": "stream",
     "text": [
      "Input number:1\n",
      "Ip:1\n",
      "Long url:-1\n",
      "Short url:-1\n",
      "Symbol:-1\n",
      "Redirecting:0\n",
      "Prefix/Suffix:0\n",
      "Sub Domain:0\n",
      "Https : 0\n",
      "Domain Reg len:0\n",
      "Favicon:-1\n",
      "Non Std Port:-1\n",
      "Https Domain Url:0\n",
      "Request Url:1\n",
      "Anchor Url:-1\n",
      "Script tag links:0\n",
      "Server Form Handler:0\n",
      "Info Email:-1\n",
      "Abnormal Url:1\n",
      "Website Forwarding:1\n",
      "Status Bar Cust:1\n",
      "Disable Right Click:1\n",
      "Using Pop up window?:1\n",
      "IFramed redirection:1\n",
      "Age of domain:1\n",
      "DNS recording:1\n",
      "Web Traffic:1\n",
      "Page Rank:1\n",
      "Google Index:1\n",
      "Links pointing towards:1\n",
      "Stats Report:1\n",
      "Is it a phishing website: -1\n"
     ]
    }
   ],
   "source": [
    "# PREDICTION ON GIVEN INPUT USING RANDOM FOREST AS IT HAS THE HIGHEST ACCURACY\n",
    "index=input(\"Input number:\")\n",
    "ip=input(\"Ip:\")\n",
    "long=input(\"Long url:\")\n",
    "short=input(\"Short url:\")\n",
    "symbol=input(\"Symbol:\")\n",
    "redirect=input(\"Redirecting:\")\n",
    "fix=input(\"Prefix/Suffix:\")\n",
    "sub=input(\"Sub Domain:\")\n",
    "http=input(\"Https : \")\n",
    "rl=input(\"Domain Reg len:\")\n",
    "fav=input(\"Favicon:\")\n",
    "port=input(\"Non Std Port:\")\n",
    "hturl=input(\"Https Domain Url:\")\n",
    "req=input(\"Request Url:\")\n",
    "acc=input(\"Anchor Url:\")\n",
    "links=input(\"Script tag links:\")\n",
    "server=input(\"Server Form Handler:\")\n",
    "info=input(\"Info Email:\")\n",
    "abnorm=input(\"Abnormal Url:\")\n",
    "forward=input(\"Website Forwarding:\")\n",
    "status=input(\"Status Bar Cust:\")\n",
    "right=input(\"Disable Right Click:\")\n",
    "pop=input(\"Using Pop up window?:\")\n",
    "ir=input(\"IFramed redirection:\")\n",
    "age=input(\"Age of domain:\")\n",
    "dns=input(\"DNS recording:\")\n",
    "traffic=input(\"Web Traffic:\")\n",
    "rank=input(\"Page Rank:\")\n",
    "gi=input(\"Google Index:\")\n",
    "point=input(\"Links pointing towards:\")\n",
    "stat=input(\"Stats Report:\")\n",
    "inp=[[int(index),int(ip),int(long),int(short),int(symbol),int(redirect),int(fix),int(sub),int(http),int(rl),int(fav),int(port),int(hturl),int(req),int(acc),int(links),int(server),int(info),int(abnorm),int(forward),int(status),int(right),int(pop),int(ir),int(age),int(dns),int(traffic),int(rank),int(gi),int(point),int(stat)]]\n",
    "a=rfc.predict(inp)\n",
    "print(\"Is it a phishing website:\",a[0])"
   ]
  },
  {
   "cell_type": "code",
   "execution_count": null,
   "metadata": {},
   "outputs": [],
   "source": []
  }
 ],
 "metadata": {
  "kernelspec": {
   "display_name": "Python 3",
   "language": "python",
   "name": "python3"
  },
  "language_info": {
   "codemirror_mode": {
    "name": "ipython",
    "version": 3
   },
   "file_extension": ".py",
   "mimetype": "text/x-python",
   "name": "python",
   "nbconvert_exporter": "python",
   "pygments_lexer": "ipython3",
   "version": "3.7.6"
  }
 },
 "nbformat": 4,
 "nbformat_minor": 4
}
